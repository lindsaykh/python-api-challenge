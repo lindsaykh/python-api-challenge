{
 "cells": [
  {
   "cell_type": "markdown",
   "metadata": {},
   "source": [
    "# VacationPy\n",
    "----\n"
   ]
  },
  {
   "cell_type": "code",
   "execution_count": null,
   "metadata": {},
   "outputs": [],
   "source": [
    "# Dependencies and Setup\n",
    "import matplotlib.pyplot as plt\n",
    "import pandas as pd\n",
    "import numpy as np\n",
    "import requests\n",
    "import gmaps\n",
    "import os\n",
    "\n",
    "# Import API key\n",
    "from api_keys import g_key\n",
    "\n",
    "# ignore some warnings to make things look nicer\n",
    "import warnings; warnings.simplefilter('ignore')"
   ]
  },
  {
   "cell_type": "markdown",
   "metadata": {},
   "source": [
    "### Store WeatherPy Results into DataFrame\n",
    "Loading the csv exported in Part I to a DataFrame"
   ]
  },
  {
   "cell_type": "code",
   "execution_count": null,
   "metadata": {},
   "outputs": [],
   "source": [
    "csv_path = \"../output_data/cities.csv\"\n",
    "\n",
    "# import the cities.csv file as a DataFrame\n",
    "cities = pd.read_csv(csv_path)\n",
    "cities.head()\n"
   ]
  },
  {
   "cell_type": "markdown",
   "metadata": {},
   "source": [
    "### Humidity Heatmap\n",
    "* Configure gmaps.\n",
    "* Use the Lat and Lng as locations and Humidity as the weight.\n",
    "* Add Heatmap layer to map."
   ]
  },
  {
   "cell_type": "code",
   "execution_count": null,
   "metadata": {},
   "outputs": [],
   "source": [
    "# access maps with unique API key\n",
    "gmaps.configure(api_key=g_key)"
   ]
  },
  {
   "cell_type": "code",
   "execution_count": null,
   "metadata": {},
   "outputs": [],
   "source": [
    "# store latitude and longitude in locations\n",
    "locations = cities[[\"lat\", \"lng\"]].astype(float)\n",
    "\n",
    "# convert humidity values to float\n",
    "humidity = cities[\"humidity\"].astype(float)"
   ]
  },
  {
   "cell_type": "code",
   "execution_count": null,
   "metadata": {},
   "outputs": [],
   "source": [
    "# Plot Heatmap\n",
    "\n",
    "fig = gmaps.figure()\n",
    "\n",
    "# Create heat layer\n",
    "heat_layer = gmaps.heatmap_layer(locations, weights=humidity, \n",
    "                                 dissipating=False, max_intensity=100,\n",
    "                                 point_radius=3)\n",
    "\n",
    "\n",
    "# Add layer\n",
    "fig.add_layer(heat_layer)\n",
    "\n",
    "# print description of map and instructions\n",
    "print(\"Below is a gmap heatmap based on humidity in a list of cities. Zoom in (+ on bottom right) for more detail.\")\n",
    "print(\"-----------------------------------------------------------------------------------------------------------\")\n",
    "\n",
    "# Display figure\n",
    "fig"
   ]
  },
  {
   "cell_type": "markdown",
   "metadata": {},
   "source": [
    "### Create new DataFrame fitting weather criteria\n",
    "* Narrow down the cities to fit weather conditions.\n",
    "* Drop any rows will null values."
   ]
  },
  {
   "cell_type": "code",
   "execution_count": null,
   "metadata": {},
   "outputs": [],
   "source": [
    "# create new dataframe with my ideal weather conditions (listed below)\n",
    "# temperature criteria 50 < temp < 75 F\n",
    "# humidity criteria </= 60%\n",
    "# cloudiness </= 70%\n",
    "# wind speed </= 8 mph\n",
    "\n",
    "ideal_cities = cities[(cities['max temp']>= 50) & (cities['max temp']<70 )& (cities['humidity']<=60) & (cities['cloudiness']<=70) & (cities['wind speed']<= 8)]\n",
    "\n",
    "print(f\"After filtering for ideal weather conditions, there are {len(ideal_cities['city'])} cities in the dataframe (shown below).\")\n",
    "ideal_cities.head(30)\n",
    " "
   ]
  },
  {
   "cell_type": "markdown",
   "metadata": {},
   "source": [
    "### Hotel Map\n",
    "* Store into variable named `hotel_df`.\n",
    "* Add a \"Hotel Name\" column to the DataFrame.\n",
    "* Set parameters to search for hotels with 5000 meters.\n",
    "* Hit the Google Places API for each city's coordinates.\n",
    "* Store the first Hotel result into the DataFrame.\n",
    "* Plot markers on top of the heatmap."
   ]
  },
  {
   "cell_type": "code",
   "execution_count": null,
   "metadata": {},
   "outputs": [],
   "source": [
    "# renaming/storing variables per instructions\n",
    "hotel_df = ideal_cities\n",
    "\n",
    "# set up additional columns to hold information\n",
    "hotel_df['hotel name'] = \"\"\n"
   ]
  },
  {
   "cell_type": "code",
   "execution_count": null,
   "metadata": {},
   "outputs": [],
   "source": [
    "# define place search variables for google search\n",
    "target_search = \"hotel\"\n",
    "target_radius = 5000\n",
    "target_type = \"lodging\"\n",
    "\n",
    "# base url\n",
    "base_url = \"https://maps.googleapis.com/maps/api/place/nearbysearch/json\"\n",
    "\n",
    "print(f\"Beginning Data Retrieval\")\n",
    "print(f\"-------------------------------\")\n",
    "\n",
    "# Loop through the list of cities and perform a request for data on each\n",
    "# Make a request for each of the indices\n",
    "\n",
    "for index, row in hotel_df.iterrows():\n",
    "\n",
    "    # get latitude from df\n",
    "    lat = row['lat']\n",
    "    \n",
    "    # get longitude from df\n",
    "    lng = row['lng']\n",
    "    \n",
    "    # get city from df\n",
    "    city = row['city']\n",
    "    \n",
    "    # get country from df\n",
    "    country = row['country']\n",
    "\n",
    "    # add lat & lng to params dict\n",
    "    target_coordinates = f\"{lat}, {lng}\"\n",
    "        \n",
    "     # set up a parameters dictionary\n",
    "    params = {\n",
    "        \"location\": target_coordinates,\n",
    "        \"keyword\": target_search,\n",
    "        \"radius\": target_radius,\n",
    "        \"type\": target_type,\n",
    "        \"key\": g_key}\n",
    "\n",
    "    # assemble url and make API request\n",
    "    print(f\"Retrieving Results for {city}, {country} at latitude {lat} and longitude {lng}.\")\n",
    "    response = requests.get(base_url, params=params).json()\n",
    "    \n",
    "    # extract results\n",
    "    results = response['results']\n",
    "    \n",
    "    try:      \n",
    "        hotel_df.loc[index, 'hotel name'] = results[0]['name']\n",
    "              \n",
    "    except:\n",
    "        print(f\"No hotel found within radius of {city},{country}... skipping.\")\n",
    "        hotel_df.loc[index, 'hotel name'] = \"NA\"\n",
    "    pass\n",
    "\n"
   ]
  },
  {
   "cell_type": "code",
   "execution_count": null,
   "metadata": {},
   "outputs": [],
   "source": [
    "# drop rows with no hotel info\n",
    "\n",
    "# find rows with missing values \n",
    "indexNames = hotel_df[hotel_df[\"hotel name\"] == \"NA\" ].index\n",
    "\n",
    "# delete these row indexes from dataFrame\n",
    "hotel_df.drop(indexNames, inplace=True)\n",
    "\n",
    "final_list = len(hotel_df['hotel name'])\n",
    "print(f\"There are {final_list} hotels available in the regions with ideal weather conditions.\")\n",
    "print(\"These hotels are listed in the dataframe below.\")\n",
    "\n",
    "hotel_df.head(30)"
   ]
  },
  {
   "cell_type": "code",
   "execution_count": null,
   "metadata": {},
   "outputs": [],
   "source": [
    "humidity_values = hotel_df[\"humidity\"]\n",
    "max_humidity = humidity_values.max()\n",
    "\n",
    "print(f\"The maximum humidity value in the list of cities with ideal weather conditions is {max_humidity}.\")\n",
    "print(\"This humidity value should be the max_intensity value in the new heat_layer provided in the next cell.\")"
   ]
  },
  {
   "cell_type": "code",
   "execution_count": null,
   "metadata": {},
   "outputs": [],
   "source": [
    "# Plot the hotels on top of the humidity heatmap with each pin containing the Hotel Name, City, and Country.\n",
    "\n",
    "info_box_template = \"\"\"\n",
    "<dl>\n",
    "<dt>Hotel Name</dt><dd>{hotel name}</dd>\n",
    "<dt>City</dt><dd>{city}</dd>\n",
    "<dt>Country</dt><dd>{country}</dd>\n",
    "</dl>\n",
    "\"\"\"\n",
    "hotel_info = [info_box_template.format(**row) for index, row in hotel_df.iterrows()]\n",
    "location = hotel_df[[\"lat\", \"lng\"]]\n",
    "# define marker layer\n",
    "marker_layer = gmaps.marker_layer(location, info_box_content=hotel_info)\n",
    "\n",
    "# Create humidity heat layer\n",
    "heat_layer = gmaps.heatmap_layer(locations, weights=humidity, \n",
    "                                 dissipating=False, max_intensity=60,\n",
    "                                 point_radius=3)\n",
    "\n",
    "# Add marker layer ontop of heat map\n",
    "fig = gmaps.figure()\n",
    "fig.add_layer(heat_layer)\n",
    "fig.add_layer(marker_layer)\n",
    "\n",
    "# print description of map and instructions\n",
    "print(\"Below is a gmap heatmap based on humidity in a list of cities.\")\n",
    "print(\"Each pin contains the name, city, and country of the nearest hotel within the city coordinates.\")\n",
    "print(\"Zoom in (+ on bottom right) for more detail.\")\n",
    "print(\"-----------------------------------------------------------------------------------------------------------\")\n",
    "\n",
    "\n",
    "# display figure\n",
    "fig\n",
    "\n",
    "# additional reference used to get this done: https://jupyter-gmaps.readthedocs.io/en/latest/tutorial.html"
   ]
  },
  {
   "cell_type": "code",
   "execution_count": null,
   "metadata": {},
   "outputs": [],
   "source": []
  }
 ],
 "metadata": {
  "kernelspec": {
   "display_name": "Python 3",
   "language": "python",
   "name": "python3"
  },
  "language_info": {
   "codemirror_mode": {
    "name": "ipython",
    "version": 3
   },
   "file_extension": ".py",
   "mimetype": "text/x-python",
   "name": "python",
   "nbconvert_exporter": "python",
   "pygments_lexer": "ipython3",
   "version": "3.6.10"
  },
  "latex_envs": {
   "LaTeX_envs_menu_present": true,
   "autoclose": false,
   "autocomplete": true,
   "bibliofile": "biblio.bib",
   "cite_by": "apalike",
   "current_citInitial": 1,
   "eqLabelWithNumbers": true,
   "eqNumInitial": 1,
   "hotkeys": {
    "equation": "Ctrl-E",
    "itemize": "Ctrl-I"
   },
   "labels_anchors": false,
   "latex_user_defs": false,
   "report_style_numbering": false,
   "user_envs_cfg": false
  }
 },
 "nbformat": 4,
 "nbformat_minor": 4
}
