{
 "cells": [
  {
   "cell_type": "markdown",
   "metadata": {},
   "source": [
    "# WeatherPy\n",
    "----\n",
    "\n",
    "Note: Plot descriptions are located in markdown cells under corresponding plots."
   ]
  },
  {
   "cell_type": "code",
   "execution_count": null,
   "metadata": {
    "scrolled": true
   },
   "outputs": [],
   "source": [
    "# Dependencies and Setup\n",
    "import matplotlib.pyplot as plt\n",
    "import pandas as pd\n",
    "import numpy as np\n",
    "import requests\n",
    "import time\n",
    "from scipy import stats\n",
    "\n",
    "# ignore some warnings to make things look nicer\n",
    "import warnings; warnings.simplefilter('ignore')\n",
    "\n",
    "# Import API key\n",
    "from api_keys import weather_api_key\n",
    "\n",
    "# Incorporated citipy to determine city based on latitude and longitude\n",
    "from citipy import citipy\n",
    "\n",
    "# Output File (CSV)\n",
    "output_data_file = \"output_data/cities.csv\"\n",
    "\n",
    "# Range of latitudes and longitudes\n",
    "lat_range = (-90, 90)\n",
    "lng_range = (-180, 180)"
   ]
  },
  {
   "cell_type": "markdown",
   "metadata": {},
   "source": [
    "## Generate Cities List"
   ]
  },
  {
   "cell_type": "code",
   "execution_count": null,
   "metadata": {},
   "outputs": [],
   "source": [
    "# List for holding lat_lngs and cities\n",
    "lat_lngs = []\n",
    "cities = []\n",
    "\n",
    "# Create a set of random lat and lng combinations\n",
    "lats = np.random.uniform(lat_range[0], lat_range[1], size=1500)\n",
    "lngs = np.random.uniform(lng_range[0], lng_range[1], size=1500)\n",
    "lat_lngs = zip(lats, lngs)\n",
    "\n",
    "# Identify nearest city for each lat, lng combination\n",
    "for lat_lng in lat_lngs:\n",
    "    city = citipy.nearest_city(lat_lng[0], lat_lng[1]).city_name\n",
    "    \n",
    "    # If the city is unique, then add it to a our cities list\n",
    "    if city not in cities:\n",
    "        cities.append(city)\n",
    "\n",
    "# Print the city count to confirm sufficient count\n",
    "print(f'There are {len(cities)} cities in the list.')"
   ]
  },
  {
   "cell_type": "markdown",
   "metadata": {},
   "source": [
    "### Perform API Calls\n",
    "* Perform a weather check on each city using a series of successive API calls.\n",
    "* Include a print log of each city as it'sbeing processed (with the city number and city name).\n"
   ]
  },
  {
   "cell_type": "code",
   "execution_count": null,
   "metadata": {},
   "outputs": [],
   "source": [
    "# set up lists to hold reponse info\n",
    "temp_max = []\n",
    "humidity = []\n",
    "country = []\n",
    "wind = []\n",
    "clouds = []\n",
    "date = []\n",
    "lat = []\n",
    "long = []\n",
    "\n",
    "# Build query URL\n",
    "url = \"http://api.openweathermap.org/data/2.5/weather?\"\n",
    "units = \"imperial\"\n",
    "\n",
    "# Build partial query URL\n",
    "\n",
    "query_url = url + \"appid=\" + weather_api_key + \"&units=\" + units + \"&q=\"\n",
    "\n",
    "print(f\"Beginning Data Retrieval\")\n",
    "print(f\"-------------------------------\")\n",
    "\n",
    "    # Loop through the list of cities and perform a request for data on each\n",
    "    # Make a request for each of the indices\n",
    "    \n",
    "for i in range(0, len(cities)):\n",
    "    \n",
    "    # use try/except to pass any cities that are not retrievable\n",
    "    try:\n",
    "        print(f\"Processing Record: {i} of Set 1 | {cities[i]}\")\n",
    "            \n",
    "        # get response data\n",
    "        response = requests.get(query_url + cities[i]).json()\n",
    "       \n",
    "        # add response data to the appropriate values list\n",
    "        lat.append(response['coord']['lat'])\n",
    "        long.append(response['coord']['lon'])\n",
    "        temp_max.append(response['main']['temp_max'])\n",
    "        humidity.append(response['main']['humidity'])\n",
    "        country.append(response['sys']['country'])\n",
    "        wind.append(response['wind']['speed'])\n",
    "        clouds.append(response['clouds']['all'])\n",
    "        date.append(response['dt'])\n",
    "        \n",
    "        #time.sleep(45) \n",
    "        \n",
    "    except:\n",
    "        print(\"City not found. Skipping...\")\n",
    "        # write NA for values if city is not found\n",
    "        lat.append(\"NA\")\n",
    "        long.append(\"NA\")\n",
    "        temp_max.append(\"NA\")\n",
    "        humidity.append(\"NA\")\n",
    "        country.append(\"NA\")\n",
    "        wind.append(\"NA\")\n",
    "        clouds.append(\"NA\")\n",
    "        date.append(\"NA\")\n",
    "    pass    "
   ]
  },
  {
   "cell_type": "markdown",
   "metadata": {},
   "source": [
    "### Convert Raw Data to DataFrame\n",
    "* Export the city data into a .csv.\n",
    "* Display the DataFrame"
   ]
  },
  {
   "cell_type": "code",
   "execution_count": null,
   "metadata": {},
   "outputs": [],
   "source": [
    "# create a data frame from cities, lat, lng, max_temp, humidity, cloudiness, wind speed, country, and date\n",
    "weather_dict = {\n",
    "    \"city\": cities,\n",
    "    \"lat\": lat,\n",
    "    \"lng\": long,\n",
    "    \"max temp\": temp_max,\n",
    "    \"humidity\": humidity,\n",
    "    \"cloudiness\": clouds,\n",
    "    \"wind speed\": wind,\n",
    "    \"country\": country,\n",
    "    \"date\": date\n",
    "}\n",
    "\n",
    "# create a dataframe from the dictionary\n",
    "weather_data = pd.DataFrame(weather_dict)\n",
    "\n",
    "# find rows with missing values \n",
    "indexNames = weather_data[weather_data[\"max temp\"] == \"NA\" ].index\n",
    "\n",
    "# delete these row indexes from dataFrame\n",
    "weather_data.drop(indexNames, inplace=True)\n",
    "\n",
    "# export data to .csv\n",
    "weather_data.to_csv(\"..\\output_data\\cities.csv\")\n",
    "\n",
    "# display the dataframe\n",
    "weather_data.head(5)\n",
    "\n"
   ]
  },
  {
   "cell_type": "markdown",
   "metadata": {},
   "source": [
    "## Inspect the data and remove the cities where the humidity > 100%."
   ]
  },
  {
   "cell_type": "code",
   "execution_count": null,
   "metadata": {},
   "outputs": [],
   "source": [
    "# Find cities with humidity > 100%\n",
    "humidity_filter = weather_data[weather_data['humidity'] >= 100].index\n",
    "\n",
    "# Print how many cities and what cities will be removed.\n",
    "print(f'{len(humidity_filter)} cities have humidity values >/= 100%. They will be removed from the data.')\n",
    "print(f'The removed cities are listed below.')\n",
    "# list removed cities\n",
    "print(weather_data.loc[humidity_filter])\n",
    "\n",
    "# drop high humidity rows\n",
    "weather_data.drop(humidity_filter, inplace=True)\n"
   ]
  },
  {
   "cell_type": "markdown",
   "metadata": {},
   "source": [
    "## Plotting the Data\n",
    "* Use proper labeling of the plots using plot titles (including date of analysis) and axes labels.\n",
    "* Save the plotted figures as .pngs."
   ]
  },
  {
   "cell_type": "markdown",
   "metadata": {},
   "source": [
    "## Latitude vs. Temperature Plot"
   ]
  },
  {
   "cell_type": "code",
   "execution_count": null,
   "metadata": {
    "scrolled": true
   },
   "outputs": [],
   "source": [
    "# Create a Scatter Plot for temperature vs latitude\n",
    "x_values = weather_data['lat']\n",
    "y_values = weather_data['max temp']\n",
    "plt.scatter(x_values,y_values)\n",
    "plt.xlabel('City Latitude')\n",
    "plt.ylabel('Maximum Temperature (F)')\n",
    "plt.title('City Latitude vs. Max Temperature (F)')\n",
    "\n",
    "# save plt as .png\n",
    "plt.savefig(\"..\\output_data\\lat_vs_temp.png\")\n",
    "\n",
    "# show plot in notebook\n",
    "plt.show()\n",
    "\n"
   ]
  },
  {
   "cell_type": "markdown",
   "metadata": {},
   "source": [
    "### Scatter Plot Discussion: City Latitude vs. Max Temperature\n",
    "\n",
    "* The plot of city latitude versus maximum temperature indicates higher temperatures at latitudes less than approximately 20 degrees. \n",
    "* As latitude increases from 20 degrees, the maximum temperature in the cities decreases with a less-tight distribution of values. In other words, cities at higher latitudes show a greater distribution of maximum temperatures as compared to cities at smaller latitudes (~20 degree spread versus ~40 degree spread at lat. > 20 deg.). \n",
    "\n",
    "* The relationship between city latitude and maximum temperature is not linear. It appears downward quadratic and is somewhat centered at zero lattitude."
   ]
  },
  {
   "cell_type": "markdown",
   "metadata": {},
   "source": [
    "## Latitude vs. Humidity Plot"
   ]
  },
  {
   "cell_type": "code",
   "execution_count": null,
   "metadata": {
    "scrolled": true
   },
   "outputs": [],
   "source": [
    "# Create a Scatter Plot for latitude vs humidity\n",
    "x_values = weather_data['lat']\n",
    "y_values = weather_data['humidity']\n",
    "plt.scatter(x_values,y_values)\n",
    "plt.xlabel('City Latitude')\n",
    "plt.ylabel('Humidity (%)')\n",
    "plt.title('City Latitude vs. Humidity (%)')\n",
    "\n",
    "# save plt as .png\n",
    "plt.savefig(\"..\\output_data\\lat_vs_humidity.png\")\n",
    "\n",
    "# show plot in notebook\n",
    "plt.show()\n"
   ]
  },
  {
   "cell_type": "markdown",
   "metadata": {},
   "source": [
    "### Scatter Plot Discussion: City Latitude vs. Humidity\n",
    "* From the city latitude versus humidity plot it appears that higher lattitude cities (lat. > 40) have higher humidities, in general.\n",
    "* Cities located in latitudes ranging from ~5 to 40 deg. appear to have lower humidity values; cities in this latitude region have humidity values distributed primarily (but not exclusively) below ~70 percent.\n",
    "* There is no clear trend in this data except for what appears to be clustering of humidity ranges at different latitudes. \n",
    "\n"
   ]
  },
  {
   "cell_type": "markdown",
   "metadata": {},
   "source": [
    "## Latitude vs. Cloudiness Plot"
   ]
  },
  {
   "cell_type": "code",
   "execution_count": null,
   "metadata": {
    "scrolled": false
   },
   "outputs": [],
   "source": [
    "# Create a Scatter Plot for latitude vs cloudiness\n",
    "x_values = weather_data['lat']\n",
    "y_values = weather_data['cloudiness']\n",
    "plt.scatter(x_values,y_values)\n",
    "plt.xlabel('City Latitude')\n",
    "plt.ylabel('Cloudiness (%)')\n",
    "plt.title('City Latitude vs. Cloudiness (%)')\n",
    "\n",
    "# save plt as .png\n",
    "plt.savefig(\"..\\output_data\\lat_vs_cloudiness.png\")\n",
    "\n",
    "# show plot in notebook\n",
    "plt.show()\n"
   ]
  },
  {
   "cell_type": "markdown",
   "metadata": {},
   "source": [
    "### Scatter Plot Discussion: City Latitude vs. Cloudiness\n",
    "\n",
    "* Percent cloudiness versus city latitude does not show any strong relationships. Similar values are found for cloudiness at varying latitudes.\n",
    "* The data for cloudiness appears discrete or banded, i.e., cloudiness is either 0, 20, 40, 80, and 100%, with dense amounts of data for 0 and 100% cloudiness.\n",
    "* There are a few gaps for cloudiness values wherein most of the values are high (near 100%) or low (near 0%). This could suggest that some cities are alway cloudy while others are almost never cloudy. But there is no correlation with the latitude.\n"
   ]
  },
  {
   "cell_type": "markdown",
   "metadata": {},
   "source": [
    "## Latitude vs. Wind Speed Plot"
   ]
  },
  {
   "cell_type": "code",
   "execution_count": null,
   "metadata": {},
   "outputs": [],
   "source": [
    "# Create a Scatter Plot for latitude vs wind speed\n",
    "x_values = weather_data['lat']\n",
    "y_values = weather_data['wind speed']\n",
    "plt.scatter(x_values,y_values)\n",
    "plt.xlabel('City Latitude')\n",
    "plt.ylabel('Wind Speed (mph)')\n",
    "plt.title('City Latitude vs. Wind Speed (mph)')\n",
    "\n",
    "# save plt as .png\n",
    "plt.savefig(\"..\\output_data\\lat_vs_wind.png\")\n",
    "\n",
    "# show plot in notebook\n",
    "plt.show()"
   ]
  },
  {
   "cell_type": "markdown",
   "metadata": {},
   "source": [
    "### Scatter Plot Discussion: City Latitude vs. Wind Speed\n",
    "\n",
    "* The plot of city latitude versus wind speed does not suggest any trends between these two variables.\n",
    "* The plot indicates that higher values of wind speed appear in cities at latitudes greater than 20 deg. However, these are more like flyers than the suggestion of a latitude-based relationship with wind speed."
   ]
  },
  {
   "cell_type": "markdown",
   "metadata": {},
   "source": [
    "## Linear Regression"
   ]
  },
  {
   "cell_type": "code",
   "execution_count": null,
   "metadata": {},
   "outputs": [],
   "source": [
    "# separate the data into Northern Hemisphere (greater than or equal to 0 degrees latitude) \n",
    "# and Southern Hemisphere (less than 0 degrees latitude)\n",
    "\n",
    "northern_data = weather_data[weather_data['lat']>= 0]\n",
    "southern_data = weather_data[weather_data['lat']< 0]\n"
   ]
  },
  {
   "cell_type": "markdown",
   "metadata": {},
   "source": [
    "####  Northern Hemisphere - Max Temp vs. Latitude Linear Regression"
   ]
  },
  {
   "cell_type": "code",
   "execution_count": null,
   "metadata": {
    "scrolled": true
   },
   "outputs": [],
   "source": [
    "# choose variables\n",
    "# change objects to float\n",
    "northern_data['lat'] = northern_data['lat'].astype(float)\n",
    "northern_data['max temp'] = northern_data['max temp'].astype(float)\n",
    "x_north = northern_data['lat']\n",
    "y_north = northern_data['max temp']\n",
    "\n",
    "# Perform a linear regression \n",
    "(slope, intercept, rvalue, pvalue, stderr) = stats.linregress(x_north, y_north)\n",
    "\n",
    "# Get regression values\n",
    "regress_values = x_north * slope + intercept\n",
    "\n",
    "# create line equation\n",
    "line_eq = \"y = \" + str(round(slope,2)) + \"x +\" + str(round(intercept,2))\n",
    "\n",
    "# create plot\n",
    "plt.scatter(x_north,y_north)\n",
    "plt.plot(x_north,regress_values,\"r-\")\n",
    "\n",
    "# Label plot \n",
    "plt.title('Northern Hemisphere City Latitude vs. Max Temp (F)')\n",
    "plt.xlabel('Latitude ')\n",
    "plt.ylabel('Max Temperature (F)')\n",
    "\n",
    "# Show plot\n",
    "plt.show()\n",
    "\n",
    "# Print r value\n",
    "print(f\"The r-value is: {rvalue**2}\")\n",
    "print(f\"The equation of the line fit to the data is {line_eq}\")\n"
   ]
  },
  {
   "cell_type": "markdown",
   "metadata": {},
   "source": [
    "### Linear Regression Discussion: Northern City Latitude vs. Max Temperature\n",
    "\n",
    "* The correlation coefficient suggests a moderate negative linear relationship between latitude and maximum temperature.\n",
    "* As mentioned in the description of the plot of all cities (north and south hemisphere) and max temperature, the max temperature distribution is smaller in cities that have a latitude less than 20 deg. As latitude increases beyond this point, the maximum temperature fluctuates and the linear fit looks worse.\n",
    "* Since the slope would be closer to zero for cities at latitudes ranging from zero to ten (less temperature fluctuations with latitude) and the temperature fluctuates significantly after 40 deg. latitude, I would not try to predict max temperature by this regression equation unless I was looking at cities between 10 and 40 deg. latitude.\n"
   ]
  },
  {
   "cell_type": "markdown",
   "metadata": {},
   "source": [
    "####  Southern Hemisphere - Max Temp vs. Latitude Linear Regression"
   ]
  },
  {
   "cell_type": "code",
   "execution_count": null,
   "metadata": {
    "scrolled": true
   },
   "outputs": [],
   "source": [
    "# choose variables\n",
    "# change objects to float\n",
    "southern_data['lat'] = southern_data['lat'].astype(float)\n",
    "southern_data['max temp'] = southern_data['max temp'].astype(float)\n",
    "x_south = southern_data['lat']\n",
    "y_south = southern_data['max temp']\n",
    "\n",
    "# Perform a linear regression \n",
    "(slope, intercept, rvalue, pvalue, stderr) = stats.linregress(x_south, y_south)\n",
    "\n",
    "# Get regression values\n",
    "regress_values = x_south * slope + intercept\n",
    "\n",
    "# create line equation\n",
    "line_eq = \"y = \" + str(round(slope,2)) + \"x +\" + str(round(intercept,2))\n",
    "\n",
    "# create plot\n",
    "plt.scatter(x_south,y_south)\n",
    "plt.plot(x_south,regress_values,\"r-\")\n",
    "\n",
    "# Label plot and annotate the line equation\n",
    "plt.title('Southern Hemisphere City Latitude vs. Max Temp (F)')\n",
    "plt.xlabel('Latitude')\n",
    "plt.ylabel('Max Temperature (F)')\n",
    "\n",
    "# Show plot\n",
    "plt.show()\n",
    "\n",
    "# Print r value\n",
    "print(f\"The r-value is: {rvalue**2}\")\n",
    "print(f\"The equation of the line fit to the data is {line_eq}\")"
   ]
  },
  {
   "cell_type": "markdown",
   "metadata": {},
   "source": [
    "### Linear Regression Discussion: Southern City Latitude vs. Max Temperature\n",
    "\n",
    "* The correlation coefficient shows a weak positive linear relationship between city latitude and maximum temperature.\n",
    "* A distinct cut off appears at about -40 deg. city latitude; there are fewer high max temp flyers.\n",
    "* Compared to the Northern Hemisphere cities, there seem to be fewer cities in the southern hemisphere in general. This could change when different cities are selected, but it definitely appears unlikely that there would be more data/more cities below a latitude of -40."
   ]
  },
  {
   "cell_type": "markdown",
   "metadata": {},
   "source": [
    "####  Northern Hemisphere - Humidity (%) vs. Latitude Linear Regression"
   ]
  },
  {
   "cell_type": "code",
   "execution_count": null,
   "metadata": {
    "scrolled": true
   },
   "outputs": [],
   "source": [
    "# choose variables\n",
    "# change objects to float\n",
    "northern_data['humidity'] = northern_data['humidity'].astype(float)\n",
    "y_north_hum = northern_data['humidity']\n",
    "\n",
    "# Perform a linear regression \n",
    "(slope, intercept, rvalue, pvalue, stderr) = stats.linregress(x_north, y_north_hum)\n",
    "\n",
    "# Get regression values\n",
    "regress_values = x_north * slope + intercept\n",
    "\n",
    "# create line equation\n",
    "line_eq = \"y = \" + str(round(slope,2)) + \"x +\" + str(round(intercept,2))\n",
    "\n",
    "# create plot\n",
    "plt.scatter(x_north,y_north_hum)\n",
    "plt.plot(x_north,regress_values,\"r-\")\n",
    "\n",
    "# Label plot and annotate the line equation\n",
    "plt.title('Northern Hemisphere City Latitude vs. Humidity (%)')\n",
    "plt.xlabel('Latitude')\n",
    "plt.ylabel('Humidity')\n",
    "\n",
    "# Show plot\n",
    "plt.show()\n",
    "\n",
    "# Print r value\n",
    "print(f\"The r-value is: {rvalue**2}\")\n",
    "print(f\"The equation of the line fit to the data is {line_eq}\")\n"
   ]
  },
  {
   "cell_type": "markdown",
   "metadata": {},
   "source": [
    "### Linear Regression Discussion: Northern City Latitude vs. Humidity\n",
    "\n",
    "* The r-value is very small and, therefore, there is only a very weak positive correlation between northern city latitude and humidity.\n",
    "* There is a greater humidity value distribution in cities at latitudes less than 40 deg."
   ]
  },
  {
   "cell_type": "markdown",
   "metadata": {},
   "source": [
    "####  Southern Hemisphere - Humidity (%) vs. Latitude Linear Regression"
   ]
  },
  {
   "cell_type": "code",
   "execution_count": null,
   "metadata": {},
   "outputs": [],
   "source": [
    "# choose variables\n",
    "# change objects to float\n",
    "southern_data['humidity'] = southern_data['humidity'].astype(float)\n",
    "y_south_hum = southern_data['humidity']\n",
    "\n",
    "# Perform a linear regression \n",
    "(slope, intercept, rvalue, pvalue, stderr) = stats.linregress(x_south, y_south_hum)\n",
    "\n",
    "# Get regression values\n",
    "regress_values = x_south * slope + intercept\n",
    "\n",
    "# create line equation\n",
    "line_eq = \"y = \" + str(round(slope,2)) + \"x +\" + str(round(intercept,2))\n",
    "\n",
    "# create plot\n",
    "plt.scatter(x_south,y_south_hum)\n",
    "plt.plot(x_south,regress_values,\"r-\")\n",
    "\n",
    "# Label plot and annotate the line equation\n",
    "plt.title('Southern Hemisphere City Latitude vs. Humidity (%)')\n",
    "plt.xlabel('Latitude')\n",
    "plt.ylabel('Humidity')\n",
    "\n",
    "# Show plot\n",
    "plt.show()\n",
    "\n",
    "# Print r value\n",
    "print(f\"The r-value is: {rvalue**2}\")\n",
    "print(f\"The equation of the line fit to the data is {line_eq}\")\n"
   ]
  },
  {
   "cell_type": "markdown",
   "metadata": {},
   "source": [
    "### Linear Regression Discussion: Southern City Latitude vs. Humidity\n",
    "\n",
    "* The correlation coefficient/r-value for southern hemisphere city latitude versus humidity is even weaker than that for the northern hemisphere data.\n",
    "* Similar to the max temp discussion, there appears to be a smaller amount of data for the southern hemisphere, especially at latitudes less than -40 deg.\n",
    "* Compared to the discussion of northern city latitude versus humidity, southern latitude city humidity appears to have a wider distribution of values.\n"
   ]
  },
  {
   "cell_type": "markdown",
   "metadata": {},
   "source": [
    "####  Northern Hemisphere - Cloudiness (%) vs. Latitude Linear Regression"
   ]
  },
  {
   "cell_type": "code",
   "execution_count": null,
   "metadata": {
    "scrolled": true
   },
   "outputs": [],
   "source": [
    "# choose variables\n",
    "# change objects to float\n",
    "northern_data['cloudiness'] = northern_data['cloudiness'].astype(float)\n",
    "y_north_cloud = northern_data['cloudiness']\n",
    "\n",
    "# Perform a linear regression \n",
    "(slope, intercept, rvalue, pvalue, stderr) = stats.linregress(x_north, y_north_cloud)\n",
    "\n",
    "# Get regression values\n",
    "regress_values = x_north * slope + intercept\n",
    "\n",
    "# create line equation\n",
    "line_eq = \"y = \" + str(round(slope,2)) + \"x +\" + str(round(intercept,2))\n",
    "\n",
    "# create plot\n",
    "plt.scatter(x_north,y_north_cloud)\n",
    "plt.plot(x_north,regress_values,\"r-\")\n",
    "\n",
    "# Label plot and annotate the line equation\n",
    "plt.title('Northern Hemisphere City Latitude vs. Cloudiness')\n",
    "plt.xlabel('Latitude')\n",
    "plt.ylabel('Cloudiness (%)')\n",
    "\n",
    "# Show plot\n",
    "plt.show()\n",
    "\n",
    "# Print r value\n",
    "print(f\"The r-value is: {rvalue**2}\")\n",
    "print(f\"The equation of the line fit to the data is {line_eq}\")\n"
   ]
  },
  {
   "cell_type": "markdown",
   "metadata": {},
   "source": [
    "### Linear Regression Discussion: Northern City Latitude vs. Cloudiness\n",
    "\n",
    "* The r-value suggests no strong linear correlation between cloudiness and northern hemisphere city latitude.\n",
    "* There do appear to be more high cloudiness cities at higher latitudes, however the data is not really showing a linear correlation.\n"
   ]
  },
  {
   "cell_type": "markdown",
   "metadata": {},
   "source": [
    "####  Southern Hemisphere - Cloudiness (%) vs. Latitude Linear Regression"
   ]
  },
  {
   "cell_type": "code",
   "execution_count": null,
   "metadata": {
    "scrolled": true
   },
   "outputs": [],
   "source": [
    "# choose variables\n",
    "# change objects to float\n",
    "southern_data['cloudiness'] = southern_data['cloudiness'].astype(float)\n",
    "y_south_cloud = southern_data['cloudiness']\n",
    "\n",
    "# Perform a linear regression \n",
    "(slope, intercept, rvalue, pvalue, stderr) = stats.linregress(x_south, y_south_cloud)\n",
    "\n",
    "# Get regression values\n",
    "regress_values = x_south * slope + intercept\n",
    "\n",
    "# create line equation\n",
    "line_eq = \"y = \" + str(round(slope,2)) + \"x +\" + str(round(intercept,2))\n",
    "\n",
    "# create plot\n",
    "plt.scatter(x_south,y_south_cloud)\n",
    "plt.plot(x_south,regress_values,\"r-\")\n",
    "\n",
    "# Label plot and annotate the line equation\n",
    "plt.title('Southern Hemisphere City Latitude vs. Cloudiness (%)')\n",
    "plt.xlabel('Latitude')\n",
    "plt.ylabel('Cloudiness')\n",
    "\n",
    "# Show plot\n",
    "plt.show()\n",
    "\n",
    "# Print r value\n",
    "print(f\"The r-value is: {rvalue**2}\")\n",
    "print(f\"The equation of the line fit to the data is {line_eq}\")"
   ]
  },
  {
   "cell_type": "markdown",
   "metadata": {},
   "source": [
    "### Linear Regression Discussion: Southern City Latitude vs. Cloudiness\n",
    "\n",
    "* Similar to the northern city data, there is no linear relationship between latitude and cloudiness.\n",
    "* There does appear to be a higher percentage of cloudy cities at higher latitude values in this plot, however, beyond zero degrees latitude this trend is almost opposing. The plot of northern latitude cities shows greater percentage of clouds beyond 50 deg. latitude. Further supporting that there is no trend.\n"
   ]
  },
  {
   "cell_type": "markdown",
   "metadata": {},
   "source": [
    "####  Northern Hemisphere - Wind Speed (mph) vs. Latitude Linear Regression"
   ]
  },
  {
   "cell_type": "code",
   "execution_count": null,
   "metadata": {
    "scrolled": true
   },
   "outputs": [],
   "source": [
    "# choose variables\n",
    "# change objects to float\n",
    "northern_data['wind speed'] = northern_data['wind speed'].astype(float)\n",
    "y_north_wind = northern_data['wind speed']\n",
    "\n",
    "# Perform a linear regression \n",
    "(slope, intercept, rvalue, pvalue, stderr) = stats.linregress(x_north, y_north_wind)\n",
    "\n",
    "# Get regression values\n",
    "regress_values = x_north * slope + intercept\n",
    "\n",
    "# create line equation\n",
    "line_eq = \"y = \" + str(round(slope,2)) + \"x +\" + str(round(intercept,2))\n",
    "\n",
    "# create plot\n",
    "plt.scatter(x_north,y_north_wind)\n",
    "plt.plot(x_north,regress_values,\"r-\")\n",
    "\n",
    "# Label plot and annotate the line equation\n",
    "plt.title('Northern Hemisphere City Latitude vs. Wind Speed (mph)')\n",
    "plt.xlabel('Latitude')\n",
    "plt.ylabel('Wind Speed')\n",
    "\n",
    "# Show plot\n",
    "plt.show()\n",
    "\n",
    "# Print r value\n",
    "print(f\"The r-value is: {rvalue**2}\")\n",
    "print(f\"The equation of the line fit to the data is {line_eq}\")\n"
   ]
  },
  {
   "cell_type": "markdown",
   "metadata": {},
   "source": [
    "### Linear Regression Discussion: Northern City Latitude vs. Wind Speed\n",
    "\n",
    "* The linear regression data shows that there is not a linear relationship between northern city latitude and wind speed (unless you're considering a horizontal line).\n",
    "* This suggests that wind is not a function of latitude in the northern hemisphere cities.\n"
   ]
  },
  {
   "cell_type": "markdown",
   "metadata": {},
   "source": [
    "####  Southern Hemisphere - Wind Speed (mph) vs. Latitude Linear Regression"
   ]
  },
  {
   "cell_type": "code",
   "execution_count": null,
   "metadata": {
    "scrolled": true
   },
   "outputs": [],
   "source": [
    "# choose variables\n",
    "# change objects to float\n",
    "southern_data['wind speed'] = southern_data['wind speed'].astype(float)\n",
    "y_south_wind = southern_data['wind speed']\n",
    "\n",
    "# Perform a linear regression \n",
    "(slope, intercept, rvalue, pvalue, stderr) = stats.linregress(x_south, y_south_wind)\n",
    "\n",
    "# Get regression values\n",
    "regress_values = x_south * slope + intercept\n",
    "\n",
    "# create line equation\n",
    "line_eq = \"y = \" + str(round(slope,2)) + \"x +\" + str(round(intercept,2))\n",
    "\n",
    "# create plot\n",
    "plt.scatter(x_south,y_south_wind)\n",
    "plt.plot(x_south,regress_values,\"r-\")\n",
    "\n",
    "# Label plot and annotate the line equation\n",
    "plt.title('Southern Hemisphere City Latitude vs. Wind Speed (mph)')\n",
    "plt.xlabel('Latitude')\n",
    "plt.ylabel('Wind Speed')\n",
    "\n",
    "# Show plot\n",
    "plt.show()\n",
    "\n",
    "# Print r value\n",
    "print(f\"The r-value is: {rvalue**2}\")\n",
    "print(f\"The equation of the line fit to the data is {line_eq}\")\n"
   ]
  },
  {
   "cell_type": "markdown",
   "metadata": {},
   "source": [
    "### Linear Regression Discussion: Southern City Latitude vs. Wind Speed\n",
    "\n",
    "* The linear regression data for southern cities also shows that there is not a linear relationship between city latitude and wind speed (similar to northern cities). However, the behavior is a teensy weensy bit more linear than the northern city data.\n",
    "* This very weak linear behavior is negative, i.e. wind speed decreases as latitude increases in the southern hemisphere. This is likely driven by the small amount of data at latitudes less than -50 deg., which has very high wind speed.\n"
   ]
  },
  {
   "cell_type": "code",
   "execution_count": null,
   "metadata": {},
   "outputs": [],
   "source": []
  }
 ],
 "metadata": {
  "anaconda-cloud": {},
  "kernel_info": {
   "name": "python3"
  },
  "kernelspec": {
   "display_name": "Python 3",
   "language": "python",
   "name": "python3"
  },
  "language_info": {
   "codemirror_mode": {
    "name": "ipython",
    "version": 3
   },
   "file_extension": ".py",
   "mimetype": "text/x-python",
   "name": "python",
   "nbconvert_exporter": "python",
   "pygments_lexer": "ipython3",
   "version": "3.6.10"
  },
  "latex_envs": {
   "LaTeX_envs_menu_present": true,
   "autoclose": false,
   "autocomplete": true,
   "bibliofile": "biblio.bib",
   "cite_by": "apalike",
   "current_citInitial": 1,
   "eqLabelWithNumbers": true,
   "eqNumInitial": 1,
   "hotkeys": {
    "equation": "Ctrl-E",
    "itemize": "Ctrl-I"
   },
   "labels_anchors": false,
   "latex_user_defs": false,
   "report_style_numbering": false,
   "user_envs_cfg": false
  },
  "nteract": {
   "version": "0.12.3"
  }
 },
 "nbformat": 4,
 "nbformat_minor": 2
}
